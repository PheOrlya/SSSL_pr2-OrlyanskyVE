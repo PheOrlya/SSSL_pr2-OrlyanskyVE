{
  "nbformat": 4,
  "nbformat_minor": 0,
  "metadata": {
    "colab": {
      "provenance": [],
      "authorship_tag": "ABX9TyOdSQxdauEJARW4iAhkLteA",
      "include_colab_link": true
    },
    "kernelspec": {
      "name": "python3",
      "display_name": "Python 3"
    },
    "language_info": {
      "name": "python"
    }
  },
  "cells": [
    {
      "cell_type": "markdown",
      "metadata": {
        "id": "view-in-github",
        "colab_type": "text"
      },
      "source": [
        "<a href=\"https://colab.research.google.com/github/PheOrlya/SSSL_pr2-OrlyanskyVE/blob/main/%D0%A1%D0%B8%D1%81%D1%82%D0%B5%D0%BC%D0%B0_%D0%B4%D0%BB%D1%8F_%D1%81%D0%B1%D0%BE%D1%80%D0%B0_%D1%81%D0%BE%D0%B1%D1%8B%D1%82%D0%B8%D0%B9_%D0%B8_%D0%BB%D0%BE%D0%B3%D0%BE%D0%B2_%D0%9F%D0%A02.ipynb\" target=\"_parent\"><img src=\"https://colab.research.google.com/assets/colab-badge.svg\" alt=\"Open In Colab\"/></a>"
      ]
    },
    {
      "cell_type": "code",
      "execution_count": 1,
      "metadata": {
        "colab": {
          "base_uri": "https://localhost:8080/"
        },
        "id": "ApZWwFDdIkij",
        "outputId": "a148ea1a-33d8-4bde-ee69-04abcc6ceb85"
      },
      "outputs": [
        {
          "output_type": "stream",
          "name": "stdout",
          "text": [
            "Cloning into 'loghub'...\n",
            "remote: Enumerating objects: 557, done.\u001b[K\n",
            "remote: Counting objects: 100% (83/83), done.\u001b[K\n",
            "remote: Compressing objects: 100% (34/34), done.\u001b[K\n",
            "remote: Total 557 (delta 55), reused 52 (delta 47), pack-reused 474\u001b[K\n",
            "Receiving objects: 100% (557/557), 7.32 MiB | 17.35 MiB/s, done.\n",
            "Resolving deltas: 100% (255/255), done.\n"
          ]
        }
      ],
      "source": [
        "!git clone https://github.com/logpai/loghub"
      ]
    },
    {
      "cell_type": "code",
      "source": [
        "%cd /content/loghub/HDFS\n",
        "!pwd"
      ],
      "metadata": {
        "colab": {
          "base_uri": "https://localhost:8080/"
        },
        "id": "U5dHQDYeItdm",
        "outputId": "cde24f4a-69d0-4520-ce6d-ea5b1f62f2f0"
      },
      "execution_count": 2,
      "outputs": [
        {
          "output_type": "stream",
          "name": "stdout",
          "text": [
            "/content/loghub/HDFS\n",
            "/content/loghub/HDFS\n"
          ]
        }
      ]
    },
    {
      "cell_type": "markdown",
      "source": [
        "Описание структуры полей логов и разработка парсера:\n",
        "\n",
        "1) Изучите структуру полей лог-файлов, определите, какие информационные элементы содержатся в каждом лог-сообщении.\n",
        "*   Date: сопоставляет дату: 081109.\n",
        "*   Time: сопоставляет время: 204005.\n",
        "*   Process ID: Номер, следующий за меткой времени, который может обозначать ID процесса, исполняемого в момент записи в журнал: 35.\n",
        "*   Log Level: Индикатор уровня логирования строки журнала: INFO.\n",
        "*   Source: Компонент системы, генерировавший журнальную запись: dfs.FSNamesystem.\n",
        "*   Message: Собственно сообщение в журнале: BLOCK* NameSystem.addStoredBlock: blockMap updated: 10.251.73.220:50010 is added to blk_7128370237687728475 size 67108864.\n",
        "\n",
        "2) Разработайте парсер для не менее чем 5 видов сообщений, чтобы выделить каждый элемент информации в отдельные поля.\n",
        "\n",
        "За основу был взят пример парсера приведенный в работе и переделан под необходимый формат лога"
      ],
      "metadata": {
        "id": "I2BgQugybnZj"
      }
    },
    {
      "cell_type": "code",
      "source": [
        "import re\n",
        "\n",
        "log_line = \"081109 204005 35 INFO dfs.FSNamesystem: BLOCK* NameSystem.addStoredBlock: blockMap updated: 10.251.73.220:50010 is added to blk_7128370237687728475 size 67108864\"\n",
        "regex_pattern = r'(\\d{6}) (\\d{6}) (\\d+) (\\w+) (.*?):\\s+(.*)'\n",
        "\n",
        "matches = re.match(regex_pattern, log_line)\n",
        "if matches:\n",
        "    date = matches.group(1)\n",
        "    time = matches.group(2)\n",
        "    process_id = matches.group(3)\n",
        "    log_level = matches.group(4)\n",
        "    source = matches.group(5)\n",
        "    message = matches.group(6)\n",
        "\n",
        "print(\"Date:\", date)\n",
        "print(\"Time:\", time)\n",
        "print(\"Process ID:\", process_id)\n",
        "print(\"Log Level:\", log_level)\n",
        "print(\"Source:\", source)\n",
        "print(\"Message:\", message)"
      ],
      "metadata": {
        "colab": {
          "base_uri": "https://localhost:8080/"
        },
        "id": "0Qv0BfC8a_a_",
        "outputId": "34ea0b0b-36ac-4653-bf3f-3608e2b1f310"
      },
      "execution_count": 29,
      "outputs": [
        {
          "output_type": "stream",
          "name": "stdout",
          "text": [
            "Date: 081109\n",
            "Time: 204005\n",
            "Process ID: 35\n",
            "Log Level: INFO\n",
            "Source: dfs.FSNamesystem\n",
            "Message: BLOCK* NameSystem.addStoredBlock: blockMap updated: 10.251.73.220:50010 is added to blk_7128370237687728475 size 67108864\n"
          ]
        }
      ]
    },
    {
      "cell_type": "markdown",
      "source": [
        "Парсинг лога и сохранение в СУБД:\n",
        "\n",
        "3) Распарсите лог-файл с использованием разработанного парсера.\n",
        "\n",
        "4) Сохраните каждую запись в соответствующие таблицы вашей базы данных. (Данные сохранены в log_data)\n",
        "\n",
        "При сохранении возникла ошибка, которая выводила все данные в один столбец черезх запятую.\n",
        "\n",
        "Данную ошибку получилось исправить использовав ; вместо , в качестве разделителя"
      ],
      "metadata": {
        "id": "gdZ72hPWdT56"
      }
    },
    {
      "cell_type": "code",
      "source": [
        "!pip install pandas"
      ],
      "metadata": {
        "colab": {
          "base_uri": "https://localhost:8080/"
        },
        "id": "hFU1OXJdhkNF",
        "outputId": "15c4b002-95e3-45bf-d286-86b059dc65d0"
      },
      "execution_count": 61,
      "outputs": [
        {
          "output_type": "stream",
          "name": "stdout",
          "text": [
            "Requirement already satisfied: pandas in /usr/local/lib/python3.10/dist-packages (1.5.3)\n",
            "Requirement already satisfied: python-dateutil>=2.8.1 in /usr/local/lib/python3.10/dist-packages (from pandas) (2.8.2)\n",
            "Requirement already satisfied: pytz>=2020.1 in /usr/local/lib/python3.10/dist-packages (from pandas) (2023.3.post1)\n",
            "Requirement already satisfied: numpy>=1.21.0 in /usr/local/lib/python3.10/dist-packages (from pandas) (1.23.5)\n",
            "Requirement already satisfied: six>=1.5 in /usr/local/lib/python3.10/dist-packages (from python-dateutil>=2.8.1->pandas) (1.16.0)\n"
          ]
        }
      ]
    },
    {
      "cell_type": "code",
      "source": [
        "import re\n",
        "import pandas as pd\n",
        "\n",
        "#Создание хранилища для записи логов\n",
        "log_data = []\n",
        "\n",
        "#Открытие файла с логами и прочтение их построчно\n",
        "with open('HDFS_2k.log', 'r') as file:\n",
        "  for line in file:\n",
        "\n",
        "    regex_pattern = r'(\\d{6}) (\\d{6}) (\\d+) (\\w+) (.*?):\\s+(.*)'\n",
        "\n",
        "    matches = re.match(regex_pattern, line)\n",
        "    if matches:\n",
        "        date = matches.group(1)\n",
        "        time = matches.group(2)\n",
        "        process_id = matches.group(3)\n",
        "        log_level = matches.group(4)\n",
        "        source = matches.group(5)\n",
        "        message = matches.group(6)\n",
        "\n",
        "        # Преобразование логов в отдельные блоки\n",
        "        log_data.append({\n",
        "            \"Date\": date,\n",
        "            \"Time\": time,\n",
        "            \"Process ID\": process_id,\n",
        "            \"Log Level\": log_level,\n",
        "            \"Source\": source,\n",
        "            \"Message\": message\n",
        "        })\n",
        "\n",
        "#Преобразование хранилища в DataFrame\n",
        "df = pd.DataFrame(log_data)\n",
        "\n",
        "#Вывод DataFrame`a\n",
        "print(df)\n",
        "\n",
        "#Сохранение DataFrame`a в файл .csv\n",
        "df.to_csv('log_data.csv', sep=';', index=False)"
      ],
      "metadata": {
        "colab": {
          "base_uri": "https://localhost:8080/"
        },
        "id": "tejQH6GdI9k8",
        "outputId": "3840166e-d7bf-4021-a4bd-a9e330cf16ef"
      },
      "execution_count": 69,
      "outputs": [
        {
          "output_type": "stream",
          "name": "stdout",
          "text": [
            "        Date    Time Process ID Log Level                        Source  \\\n",
            "0     081109  203615        148      INFO  dfs.DataNode$PacketResponder   \n",
            "1     081109  203807        222      INFO  dfs.DataNode$PacketResponder   \n",
            "2     081109  204005         35      INFO              dfs.FSNamesystem   \n",
            "3     081109  204015        308      INFO  dfs.DataNode$PacketResponder   \n",
            "4     081109  204106        329      INFO  dfs.DataNode$PacketResponder   \n",
            "...      ...     ...        ...       ...                           ...   \n",
            "1995  081111  101621      24902      INFO      dfs.DataNode$DataXceiver   \n",
            "1996  081111  101735      26595      INFO  dfs.DataNode$PacketResponder   \n",
            "1997  081111  101804      26494      INFO      dfs.DataNode$DataXceiver   \n",
            "1998  081111  101954      26414      INFO  dfs.DataNode$PacketResponder   \n",
            "1999  081111  102017      26347      INFO      dfs.DataNode$DataXceiver   \n",
            "\n",
            "                                                Message  \n",
            "0     PacketResponder 1 for block blk_38865049064139...  \n",
            "1     PacketResponder 0 for block blk_-6952295868487...  \n",
            "2     BLOCK* NameSystem.addStoredBlock: blockMap upd...  \n",
            "3     PacketResponder 2 for block blk_82291938032499...  \n",
            "4     PacketResponder 2 for block blk_-6670958622368...  \n",
            "...                                                 ...  \n",
            "1995  Receiving block blk_4198733391373026104 src: /...  \n",
            "1996  Received block blk_-5815145248455404269 of siz...  \n",
            "1997  Receiving block blk_-295306975763175640 src: /...  \n",
            "1998  PacketResponder 0 for block blk_52257196770490...  \n",
            "1999  Receiving block blk_4343207286455274569 src: /...  \n",
            "\n",
            "[2000 rows x 6 columns]\n"
          ]
        }
      ]
    },
    {
      "cell_type": "markdown",
      "source": [
        "Нормализация логов и сохранение в СУБД:\n",
        "\n",
        "5) Выполните нормализацию логов (приведение к единой форме).\n",
        "\n",
        "6) Сохраните нормализованные записи в соответствующие таблицы вашей СУБД."
      ],
      "metadata": {
        "id": "SgB8fh0tnMx9"
      }
    },
    {
      "cell_type": "code",
      "source": [
        "import re\n",
        "import pandas as pd\n",
        "from datetime import datetime\n",
        "\n",
        "#Создание хранилища для записи логов\n",
        "log_data = []\n",
        "\n",
        "#Открытие файла с логами и прочтение их построчно\n",
        "with open('HDFS_2k.log', 'r') as file:\n",
        "  for line in file:\n",
        "\n",
        "    regex_pattern = r'(\\d{6}) (\\d{6}) (\\d+) (\\w+) (.*?):\\s+(.*)'\n",
        "\n",
        "# Удалить повторяющиеся строки\n",
        "    df = df.drop_duplicates()\n",
        "\n",
        "# Сохранить DataFrame в .csv файле\n",
        "    df.to_csv('log_data_norm.csv', sep=';', index=False)\n",
        "\n",
        "    matches = re.match(regex_pattern, line)\n",
        "    if matches:\n",
        "        date = matches.group(1)\n",
        "        time = matches.group(2)\n",
        "        process_id = matches.group(3)\n",
        "        log_level = matches.group(4).upper()\n",
        "        source = matches.group(5).strip()\n",
        "        message = matches.group(6).strip()\n",
        "\n",
        "        # Преобразование логов в отдельные блоки\n",
        "        date_obj = datetime.strptime(date, \"%y%m%d\")\n",
        "        time_obj = datetime.strptime(time, \"%H%M%S\")\n",
        "        formatted_date = date_obj.strftime(\"%Y-%m-%d\")\n",
        "        formatted_time = time_obj.strftime(\"%H:%M:%S\")\n",
        "\n",
        "        log_data.append({\n",
        "            \"Date\": formatted_date,\n",
        "            \"Time\": formatted_time,\n",
        "            \"Process ID\": process_id,\n",
        "            \"Log Level\": log_level,\n",
        "            \"Source\": source,\n",
        "            \"Message\": message\n",
        "        })\n",
        "\n",
        "#Преобразование хранилища в DataFrame\n",
        "df = pd.DataFrame(log_data)\n",
        "\n",
        "#Вывод DataFrame`a\n",
        "print(df)\n",
        "\n",
        "#Сохранение DataFrame`a в файл .csv\n",
        "df.to_csv('log_data_norm.csv', sep=';', index=False)"
      ],
      "metadata": {
        "colab": {
          "base_uri": "https://localhost:8080/"
        },
        "id": "ThL9CN2r1vWM",
        "outputId": "e03d08a8-dc08-4f06-b8bf-e26cceee4954"
      },
      "execution_count": 86,
      "outputs": [
        {
          "output_type": "stream",
          "name": "stdout",
          "text": [
            "            Date      Time Process ID Log Level                        Source  \\\n",
            "0     2008-11-09  20:36:15        148      INFO  dfs.DataNode$PacketResponder   \n",
            "1     2008-11-09  20:38:07        222      INFO  dfs.DataNode$PacketResponder   \n",
            "2     2008-11-09  20:40:05         35      INFO              dfs.FSNamesystem   \n",
            "3     2008-11-09  20:40:15        308      INFO  dfs.DataNode$PacketResponder   \n",
            "4     2008-11-09  20:41:06        329      INFO  dfs.DataNode$PacketResponder   \n",
            "...          ...       ...        ...       ...                           ...   \n",
            "1995  2008-11-11  10:16:21      24902      INFO      dfs.DataNode$DataXceiver   \n",
            "1996  2008-11-11  10:17:35      26595      INFO  dfs.DataNode$PacketResponder   \n",
            "1997  2008-11-11  10:18:04      26494      INFO      dfs.DataNode$DataXceiver   \n",
            "1998  2008-11-11  10:19:54      26414      INFO  dfs.DataNode$PacketResponder   \n",
            "1999  2008-11-11  10:20:17      26347      INFO      dfs.DataNode$DataXceiver   \n",
            "\n",
            "                                                Message  \n",
            "0     PacketResponder 1 for block blk_38865049064139...  \n",
            "1     PacketResponder 0 for block blk_-6952295868487...  \n",
            "2     BLOCK* NameSystem.addStoredBlock: blockMap upd...  \n",
            "3     PacketResponder 2 for block blk_82291938032499...  \n",
            "4     PacketResponder 2 for block blk_-6670958622368...  \n",
            "...                                                 ...  \n",
            "1995  Receiving block blk_4198733391373026104 src: /...  \n",
            "1996  Received block blk_-5815145248455404269 of siz...  \n",
            "1997  Receiving block blk_-295306975763175640 src: /...  \n",
            "1998  PacketResponder 0 for block blk_52257196770490...  \n",
            "1999  Receiving block blk_4343207286455274569 src: /...  \n",
            "\n",
            "[2000 rows x 6 columns]\n"
          ]
        }
      ]
    },
    {
      "cell_type": "markdown",
      "source": [
        "Статистический анализ и визуализация:\n",
        "\n",
        "7) Проведите статистический анализ данных по различным полям (например, по уровню логирования, частоте определенных событий).\n",
        "\n",
        "8) Визуализируйте результаты с использованием библиотек Python, таких как Pandas и Matplotlib."
      ],
      "metadata": {
        "id": "pFXxDbVjvIuh"
      }
    },
    {
      "cell_type": "code",
      "source": [
        "import matplotlib.pyplot as plt\n",
        "import seaborn as sns\n",
        "import pandas as pd\n",
        "\n",
        "df = pd.read_csv('log_data_norm.csv')\n",
        "\n",
        "print(df.columns)\n"
      ],
      "metadata": {
        "colab": {
          "base_uri": "https://localhost:8080/"
        },
        "id": "XFdlGmZB7D1j",
        "outputId": "071cc8f5-a7d5-44b1-ec2c-536fdc9d0249"
      },
      "execution_count": 92,
      "outputs": [
        {
          "output_type": "stream",
          "name": "stdout",
          "text": [
            "Index(['Date;Time;Process ID;Log Level;Source;Message'], dtype='object')\n"
          ]
        }
      ]
    },
    {
      "cell_type": "code",
      "source": [
        "df = pd.read_csv('log_data_norm.csv', delimiter=';')\n",
        "\n",
        "# Вычисление частоты разных данных в столбце \"Log Level\"\n",
        "log_level_counts = df['Log Level'].value_counts()\n",
        "print(log_level_counts)\n",
        "\n",
        "#Визуализация разницы частот данных\n",
        "plt.figure(figsize=(10,6))\n",
        "sns.barplot(x=log_level_counts.index, y=log_level_counts.values, alpha=0.8)\n",
        "plt.title('Frequency Distribution of Log Levels')\n",
        "plt.ylabel('Number of Occurrences', fontsize=12)\n",
        "plt.xlabel('Log Level', fontsize=12)\n",
        "plt.show()\n",
        "\n",
        "#Частота встречающихся событий\n",
        "message_counts = df['Message'].value_counts()\n",
        "print(message_counts.head())"
      ],
      "metadata": {
        "colab": {
          "base_uri": "https://localhost:8080/",
          "height": 724
        },
        "id": "un8pPH6Tux8w",
        "outputId": "99143443-326a-44c9-f45d-d5d927da1dbd"
      },
      "execution_count": 95,
      "outputs": [
        {
          "output_type": "stream",
          "name": "stdout",
          "text": [
            "INFO    1920\n",
            "WARN      80\n",
            "Name: Log Level, dtype: int64\n"
          ]
        },
        {
          "output_type": "display_data",
          "data": {
            "text/plain": [
              "<Figure size 1000x600 with 1 Axes>"
            ],
            "image/png": "[encoded data removed]"
          },
          "metadata": {}
        },
        {
          "output_type": "stream",
          "name": "stdout",
          "text": [
            "PacketResponder 1 for block blk_38865049064139660 terminating                                                                  1\n",
            "BLOCK* NameSystem.addStoredBlock: blockMap updated: 10.251.203.166:50010 is added to blk_-2332150303475653460 size 67108864    1\n",
            "Receiving block blk_345577139488306634 src: /10.251.37.240:38873 dest: /10.251.37.240:50010                                    1\n",
            "PacketResponder 2 for block blk_-3363550789841756902 terminating                                                               1\n",
            "PacketResponder 1 for block blk_4178945095089206682 terminating                                                                1\n",
            "Name: Message, dtype: int64\n"
          ]
        }
      ]
    }
  ]
}